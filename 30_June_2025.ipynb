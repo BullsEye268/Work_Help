import numpy as np
import pandas as pd
import matplotlib.pyplot as plt
from scipy.linalg import inv
import warnings
warnings.filterwarnings(‘ignore’)

class StockKalmanFilter:
“””
Kalman Filter for stock trend analysis
Estimates price level and trend (velocity) simultaneously
“””

```
def __init__(self, process_variance=1e-5, observation_variance=1e-3):
    """
    Initialize Kalman Filter
    
    Parameters:
    process_variance: How much we expect the true price/trend to change (lower = smoother)
    observation_variance: How much noise we expect in price observations (lower = trust data more)
    """
    self.process_var = process_variance
    self.obs_var = observation_variance
    
    # State vector: [price, trend/velocity]
    self.state = np.array([0.0, 0.0])
    
    # State covariance matrix
    self.P = np.eye(2) * 1.0
    
    # State transition matrix (constant velocity model)
    self.F = np.array([[1.0, 1.0],  # price = previous_price + trend
                      [0.0, 1.0]])  # trend = previous_trend
    
    # Observation matrix (we only observe price, not trend directly)
    self.H = np.array([[1.0, 0.0]])
    
    # Process noise covariance
    self.Q = np.array([[self.process_var, 0.0],
                      [0.0, self.process_var]])
    
    # Observation noise covariance
    self.R = np.array([[self.obs_var]])
    
def predict(self):
    """Prediction step"""
    # Predict state
    self.state = self.F @ self.state
    
    # Predict covariance
    self.P = self.F @ self.P @ self.F.T + self.Q
    
def update(self, observation):
    """Update step with new price observation"""
    # Innovation (prediction error)
    y = observation - self.H @ self.state
    
    # Innovation covariance
    S = self.H @ self.P @ self.H.T + self.R
    
    # Kalman gain
    K = self.P @ self.H.T @ inv(S)
    
    # Update state
    self.state = self.state + K @ y
    
    # Update covariance
    I = np.eye(len(self.state))
    self.P = (I - K @ self.H) @ self.P
    
def get_state(self):
    """Return current state [price_estimate, trend_estimate]"""
    return self.state.copy()
```

def apply_kalman_filter(df, price_column=‘close’, process_var=1e-5, obs_var=1e-3):
“””
Apply Kalman filter to stock data

```
Parameters:
df: DataFrame with stock data
price_column: Column name containing prices
process_var: Process noise variance (tune for smoothness)
obs_var: Observation noise variance (tune for responsiveness)

Returns:
DataFrame with original data plus Kalman estimates
"""

# Initialize filter
kf = StockKalmanFilter(process_var, obs_var)

# Initialize with first price
kf.state[0] = df[price_column].iloc[0]

# Storage for results
filtered_prices = []
trends = []

# Process each observation
for price in df[price_column]:
    # Predict
    kf.predict()
    
    # Update with observation
    kf.update(np.array([price]))
    
    # Store results
    state = kf.get_state()
    filtered_prices.append(state[0])
    trends.append(state[1])

# Create result DataFrame
result_df = df.copy()
result_df['kalman_price'] = filtered_prices
result_df['kalman_trend'] = trends

# Add trend classifications
result_df['trend_signal'] = np.where(result_df['kalman_trend'] > 0, 1, 
                                    np.where(result_df['kalman_trend'] < 0, -1, 0))

return result_df
```

def analyze_trends(df, window_hours=4, trend_threshold=0.01):
“””
Analyze trends over different time horizons

```
Parameters:
df: DataFrame with Kalman filter results
window_hours: Hours for intraday trend analysis
trend_threshold: Minimum trend magnitude to consider significant
"""

# Ensure datetime index
if not isinstance(df.index, pd.DatetimeIndex):
    if 'timestamp' in df.columns:
        df = df.set_index('timestamp')
    elif 'datetime' in df.columns:
        df = df.set_index('datetime')

results = {}

# 1. Intraday trends (within each day)
df['date'] = df.index.date
intraday_trends = []

for date in df['date'].unique():
    day_data = df[df['date'] == date].copy()
    if len(day_data) > 10:  # Need sufficient data points
        trend_strength = day_data['kalman_trend'].mean()
        trend_consistency = (day_data['kalman_trend'] > 0).mean()  # % of time trending up
        
        intraday_trends.append({
            'date': date,
            'avg_trend': trend_strength,
            'trend_consistency': trend_consistency,
            'trend_direction': 'up' if trend_strength > trend_threshold else 'down' if trend_strength < -trend_threshold else 'sideways'
        })

results['intraday_trends'] = pd.DataFrame(intraday_trends)

# 2. Rolling trend analysis (2-3 day periods)
df['trend_2day'] = df['kalman_trend'].rolling(window=48*2, center=True).mean()  # Assuming hourly data
df['trend_3day'] = df['kalman_trend'].rolling(window=48*3, center=True).mean()

# 3. Trend strength and persistence
df['trend_strength'] = np.abs(df['kalman_trend'])
df['trend_persistence'] = df['trend_signal'].rolling(window=24).apply(
    lambda x: np.abs(x.sum()) / len(x), raw=True
)

# 4. Trend change detection
df['trend_change'] = np.abs(df['kalman_trend'].diff()) > df['kalman_trend'].rolling(50).std() * 2

results['processed_df'] = df

return results
```

def plot_kalman_analysis(df, start_date=None, end_date=None, figsize=(15, 12)):
“””
Create comprehensive plots of Kalman filter analysis
“””

```
# Filter date range if specified
if start_date or end_date:
    if start_date:
        df = df[df.index >= start_date]
    if end_date:
        df = df[df.index <= end_date]

fig, axes = plt.subplots(4, 1, figsize=figsize, sharex=True)

# Plot 1: Price and filtered price
axes[0].plot(df.index, df.iloc[:, 0], alpha=0.7, label='Observed Price', color='lightblue')
axes[0].plot(df.index, df['kalman_price'], label='Kalman Filtered Price', color='navy', linewidth=2)
axes[0].set_ylabel('Price')
axes[0].legend()
axes[0].set_title('Stock Price vs Kalman Filtered Price')
axes[0].grid(True, alpha=0.3)

# Plot 2: Trend (velocity)
axes[1].plot(df.index, df['kalman_trend'], color='green', linewidth=1.5)
axes[1].axhline(y=0, color='red', linestyle='--', alpha=0.7)
axes[1].fill_between(df.index, df['kalman_trend'], 0, 
                    where=(df['kalman_trend'] > 0), color='green', alpha=0.3, label='Uptrend')
axes[1].fill_between(df.index, df['kalman_trend'], 0, 
                    where=(df['kalman_trend'] < 0), color='red', alpha=0.3, label='Downtrend')
axes[1].set_ylabel('Trend (Velocity)')
axes[1].legend()
axes[1].set_title('Estimated Trend/Velocity')
axes[1].grid(True, alpha=0.3)

# Plot 3: Multi-day trends
if 'trend_2day' in df.columns and 'trend_3day' in df.columns:
    axes[2].plot(df.index, df['trend_2day'], label='2-Day Trend', color='orange', linewidth=2)
    axes[2].plot(df.index, df['trend_3day'], label='3-Day Trend', color='purple', linewidth=2)
    axes[2].axhline(y=0, color='red', linestyle='--', alpha=0.7)
    axes[2].set_ylabel('Multi-Day Trend')
    axes[2].legend()
    axes[2].set_title('2-Day and 3-Day Rolling Trends')
    axes[2].grid(True, alpha=0.3)

# Plot 4: Trend strength and persistence
if 'trend_strength' in df.columns and 'trend_persistence' in df.columns:
    ax4_twin = axes[3].twinx()
    axes[3].plot(df.index, df['trend_strength'], color='darkgreen', alpha=0.7, label='Trend Strength')
    ax4_twin.plot(df.index, df['trend_persistence'], color='orange', alpha=0.7, label='Trend Persistence')
    
    axes[3].set_ylabel('Trend Strength', color='darkgreen')
    ax4_twin.set_ylabel('Trend Persistence', color='orange')
    axes[3].set_title('Trend Strength and Persistence')
    axes[3].grid(True, alpha=0.3)

plt.xlabel('Time')
plt.tight_layout()
plt.show()
```

# Example usage and parameter tuning guide

def example_usage():
“””
Example of how to use the Kalman filter for stock analysis
Replace this with your actual data loading
“””

```
# Example: Load your data
# df = pd.read_csv('your_stock_data.csv')
# df['timestamp'] = pd.to_datetime(df['timestamp'])
# df = df.set_index('timestamp')

# For demonstration, create sample data
np.random.seed(42)
dates = pd.date_range('2024-01-01', periods=1000, freq='H')
price_trend = np.cumsum(np.random.randn(1000) * 0.1)
noise = np.random.randn(1000) * 0.5
sample_prices = 100 + price_trend + noise

df = pd.DataFrame({
    'close': sample_prices,
    'volume': np.random.randint(1000, 10000, 1000)
}, index=dates)

print("Step 1: Apply Kalman Filter")
# Apply Kalman filter - tune these parameters based on your data
# Lower process_var = smoother trends, higher = more responsive
# Lower obs_var = trust data more, higher = more smoothing
df_filtered = apply_kalman_filter(df, 
                                 price_column='close',
                                 process_var=1e-4,  # Adjust based on your data
                                 obs_var=1e-2)      # Adjust based on noise level

print("Step 2: Analyze Trends")
trend_analysis = analyze_trends(df_filtered)

print("Step 3: Plot Results")
plot_kalman_analysis(df_filtered)

print("\nIntraday Trend Summary:")
print(trend_analysis['intraday_trends'].head())

return df_filtered, trend_analysis
```

# Parameter tuning guide

def tune_parameters(df, price_column=‘close’):
“””
Helper function to test different parameter combinations
“””
print(“Parameter Tuning Guide:”)
print(“1. process_var (1e-6 to 1e-3):”)
print(”   - Lower values = smoother, less responsive trends”)
print(”   - Higher values = more responsive, noisier trends”)
print(“2. obs_var (1e-4 to 1e-1):”)
print(”   - Lower values = trust price data more”)
print(”   - Higher values = more smoothing of price data”)
print(”\nRecommended starting points:”)
print(”- For noisy intraday data: process_var=1e-5, obs_var=1e-2”)
print(”- For cleaner daily data: process_var=1e-4, obs_var=1e-3”)
print(”- For very noisy tick data: process_var=1e-6, obs_var=1e-1”)

if **name** == “**main**”:
# Run example
df_result, analysis = example_usage()
tune_parameters(df_result)

ggvb
